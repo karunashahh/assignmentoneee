{
 "cells": [
  {
   "cell_type": "markdown",
   "id": "e26c04dc-867b-4220-82d7-c9f445e75796",
   "metadata": {},
   "source": [
    "1.Create a List L that is defined as L= [10, 20, 30, 40, 50, 60, 70, 80].\n",
    "i. WAP to add 200 and 300 to L. \n",
    "ii. WAP to remove 10 and 30 from L. \n",
    "iii. WAP to sort L in ascending order. \n",
    "iv. WAP to sort L in descending order"
   ]
  },
  {
   "cell_type": "code",
   "execution_count": 1,
   "id": "bfb10223-4c87-4ac4-b325-1f83cc62d385",
   "metadata": {},
   "outputs": [
    {
     "name": "stdout",
     "output_type": "stream",
     "text": [
      "after adding 200 and 300: [10, 20, 30, 40, 50, 60, 70, 80, 200, 300]\n",
      "after removing 10 and 30: [20, 40, 50, 60, 70, 80, 200, 300]\n",
      " L after sorting in ascending order [20, 40, 50, 60, 70, 80, 200, 300]\n",
      "after sorting in descending order [300, 200, 80, 70, 60, 50, 40, 20]\n"
     ]
    }
   ],
   "source": [
    "L =[10,20,30,40,50,60,70,80]\n",
    "L.append(200)\n",
    "L.append(300)\n",
    "print(\"after adding 200 and 300:\",L)\n",
    "L.remove(10)\n",
    "L.remove(30)\n",
    "print(\"after removing 10 and 30:\",L)\n",
    "sorted(L)\n",
    "print(\" L after sorting in ascending order\",L)\n",
    "l_descending=sorted(L,reverse=True)\n",
    "print(\"after sorting in descending order\",l_descending)"
   ]
  },
  {
   "cell_type": "markdown",
   "id": "6c9e8373-ca88-4172-9e4c-c1f7ea47a143",
   "metadata": {},
   "source": [
    "2.Create a tuple of marks scored as scores = (45, 89.5, 76, 45.4, 89, 92, 58, 45) and perform the following operations using tuple functions: \n",
    "i. Identify the highest score and its index in the tuple. \n",
    "ii. Find the lowest score and count how many times it appears. \n",
    "iii. Reverse the tuple and return it as a list. \n",
    "iv. Check if a specific score ‘76’ (input by the user) is present in the tuple and print its first occurrence index, or a message saying it’s not present"
   ]
  },
  {
   "cell_type": "code",
   "execution_count": 3,
   "id": "4545c2f9-e447-4411-9ad5-75e5a7fcc161",
   "metadata": {},
   "outputs": [
    {
     "name": "stdout",
     "output_type": "stream",
     "text": [
      "the highest score is : 92\n",
      "the highest index is: 5\n",
      "the lowest score is : 45\n",
      "the count of the lowest score is : 2\n",
      "the score 76 is present at index:2\n"
     ]
    }
   ],
   "source": [
    "score=(45,89.5,76,45.4,89,92,58,45)\n",
    "highscore=max(score)\n",
    "print(\"the highest score is :\",highscore)\n",
    "highindex=score.index(highscore)\n",
    "print(\"the highest index is:\",highindex)\n",
    "lowestscore=min(score)\n",
    "print(\"the lowest score is :\",lowestscore)\n",
    "count=score.count(lowestscore)\n",
    "print(\"the count of the lowest score is :\",count)\n",
    "reversedlist=list(score[::-1])\n",
    "inputbyuser=76\n",
    "if inputbyuser in score:\n",
    "    firstoccurence=score.index(inputbyuser)\n",
    "    presence=f\"the score {inputbyuser} is present at index:{firstoccurence}\"\n",
    "else:\n",
    "    presence=f\"the score{inputbyuser} is not present in the tuple\"\n",
    "print(presence)"
   ]
  },
  {
   "cell_type": "markdown",
   "id": "e2daa0df-f8d8-4f60-a823-ed9591fd0901",
   "metadata": {},
   "source": [
    "3.WAP to create a list of 100 random numbers between 100 and 900. Count and print the: \n",
    "i. All odd numbers \n",
    "ii. All even numbers \n",
    "iii.All prime numbers."
   ]
  },
  {
   "cell_type": "code",
   "execution_count": 5,
   "id": "37a74551-e8dd-428d-b38c-266f97c2c94e",
   "metadata": {},
   "outputs": [
    {
     "name": "stdout",
     "output_type": "stream",
     "text": [
      "random numbers: [471, 767, 133, 285, 808, 581, 255, 740, 808, 506, 631, 413, 285, 364, 561, 435, 592, 342, 786, 136, 858, 370, 118, 399, 388, 790, 267, 522, 459, 790, 400, 311, 689, 713, 699, 436, 196, 766, 539, 481, 703, 868, 547, 689, 642, 837, 454, 809, 330, 675, 190, 628, 153, 870, 120, 720, 199, 129, 484, 563, 716, 604, 593, 623, 496, 566, 351, 629, 431, 441, 347, 569, 304, 695, 307, 774, 307, 809, 347, 625, 762, 405, 502, 827, 443, 510, 219, 205, 600, 360, 196, 727, 733, 872, 680, 536, 463, 694, 544, 869]\n",
      "odd number: [471, 767, 133, 285, 581, 255, 631, 413, 285, 561, 435, 399, 267, 459, 311, 689, 713, 699, 539, 481, 703, 547, 689, 837, 809, 675, 153, 199, 129, 563, 593, 623, 351, 629, 431, 441, 347, 569, 695, 307, 307, 809, 347, 625, 405, 827, 443, 219, 205, 727, 733, 463, 869]\n",
      "even numbers: [808, 740, 808, 506, 364, 592, 342, 786, 136, 858, 370, 118, 388, 790, 522, 790, 400, 436, 196, 766, 868, 642, 454, 330, 190, 628, 870, 120, 720, 484, 716, 604, 496, 566, 304, 774, 762, 502, 510, 600, 360, 196, 872, 680, 536, 694, 544]\n",
      "prime numbers: [471, 767, 133, 285, 581, 255, 631, 413, 285, 561, 435, 399, 267, 459, 311, 689, 713, 699, 539, 481, 703, 547, 689, 837, 809, 675, 153, 199, 129, 563, 593, 623, 351, 629, 431, 441, 347, 569, 695, 307, 307, 809, 347, 625, 405, 827, 443, 219, 205, 727, 733, 463, 869]\n",
      "count of odd numbers: 53\n",
      "count of even numbers: 47\n",
      "count of prime numbers: 53\n"
     ]
    }
   ],
   "source": [
    "import random\n",
    "randomnum=[random.randint(100,900) for _ in range(100)]\n",
    "def is_prime(n):\n",
    "    if n<2:\n",
    "        return False\n",
    "    for i in range(2,int(n**0.5)+1):\n",
    "        if n%i==0:\n",
    "            return False\n",
    "        return True\n",
    "print(\"random numbers:\", randomnum)\n",
    "oddnum=[num for num in randomnum if num % 2 !=0]\n",
    "print(\"odd number:\",oddnum)\n",
    "evennum=[num for num in randomnum if num %2==0]\n",
    "print(\"even numbers:\",evennum)\n",
    "primenum=[num for num in randomnum if is_prime(num)]\n",
    "print(\"prime numbers:\",primenum)\n",
    "primenum=[num for num in randomnum if is_prime(num)]\n",
    "print(\"count of odd numbers:\",len(oddnum))\n",
    "print(\"count of even numbers:\",len(evennum))\n",
    "print(\"count of prime numbers:\", len(primenum))"
   ]
  },
  {
   "cell_type": "markdown",
   "id": "c649d852-441b-47f2-a207-af7c4d3dab09",
   "metadata": {},
   "source": [
    "4.Consider the following two sets, A and B, representing scores of two teams in multiple A = {34, 56, 78, 90} and B = {78, 45, 90, 23} WAP to perform the following opera ons using set func ons: \n",
    "i. Find the unique scores achieved by both teams (union of sets). \n",
    "ii. Identify the scores that are common to both teams (intersection of sets). \n",
    "iii. Find the scores that are exclusive to each team (symmetric difference). \n",
    "iv. Check if the scores of team A are a subset of team B, and if team B's scores are a superset of team A. \n",
    "v. Remove a specific score 𝑋 (input by the user) from set A if it exists. If not, print a message saying it is not present."
   ]
  },
  {
   "cell_type": "code",
   "execution_count": 11,
   "id": "25664f89-2aca-4830-8e3c-bcd2f0689d95",
   "metadata": {},
   "outputs": [
    {
     "name": "stdout",
     "output_type": "stream",
     "text": [
      "the unique scores achieved by both teams: {34, 45, 78, 23, 56, 90}\n",
      "the common scores of both teams are: {90, 78}\n",
      "the exclusive scores to each team are: {34, 45, 23, 56}\n",
      "is A subset of B?False\n",
      "is B superset of A?False\n"
     ]
    },
    {
     "name": "stdin",
     "output_type": "stream",
     "text": [
      "enter a score from set A: 34\n"
     ]
    },
    {
     "name": "stdout",
     "output_type": "stream",
     "text": [
      "the score 34 is removed from set A\n",
      "updated set A: {56, 90, 78}\n"
     ]
    }
   ],
   "source": [
    "A={34,56,78,90}\n",
    "B={78,45,90,23}\n",
    "union=A.union(B)\n",
    "print(\"the unique scores achieved by both teams:\",union)\n",
    "common=A.intersection(B)\n",
    "print(\"the common scores of both teams are:\",common)\n",
    "difference=A.symmetric_difference(B)\n",
    "print(\"the exclusive scores to each team are:\",difference)\n",
    "isAsubsetofB=A.issubset(B)\n",
    "print(f\"is A subset of B?{isAsubsetofB}\")\n",
    "isBsupersetofA=B.issuperset(A)\n",
    "print(f\"is B superset of A?{isBsupersetofA}\")\n",
    "x=int(input(\"enter a score from set A:\"))\n",
    "if x in A:\n",
    "    A.remove(x)\n",
    "    message=f\"the score {x} is removed from set A\"\n",
    "else:\n",
    "    message=f\"the score {x} is not present i  set A\"\n",
    "\n",
    "print(message)\n",
    "print(\"updated set A:\",A)"
   ]
  },
  {
   "cell_type": "markdown",
   "id": "8e26c037-5bdb-4632-b77e-4120dbd81e13",
   "metadata": {},
   "source": [
    "5.Write a program to rename a key city to a location in the following dictionary."
   ]
  },
  {
   "cell_type": "code",
   "execution_count": 15,
   "id": "7cf64865-be2d-4f3f-9cf5-5fe07ad8d662",
   "metadata": {},
   "outputs": [
    {
     "name": "stdout",
     "output_type": "stream",
     "text": [
      "{'name': 'kelly', 'age': 25, 'salary': 80000, 'location': 'NEW YORK'}\n"
     ]
    }
   ],
   "source": [
    "sampledict={\"name\":\"kelly\",\"age\":25,\"salary\":80000,\"city\":\"NEW YORK\"}\n",
    "sampledict[\"location\"]=sampledict.pop(\"city\")\n",
    "print(sampledict)"
   ]
  },
  {
   "cell_type": "code",
   "execution_count": null,
   "id": "cf46ce9c-2883-43e9-83d0-5b7ed84535a5",
   "metadata": {},
   "outputs": [],
   "source": []
  }
 ],
 "metadata": {
  "kernelspec": {
   "display_name": "Python [conda env:base] *",
   "language": "python",
   "name": "conda-base-py"
  },
  "language_info": {
   "codemirror_mode": {
    "name": "ipython",
    "version": 3
   },
   "file_extension": ".py",
   "mimetype": "text/x-python",
   "name": "python",
   "nbconvert_exporter": "python",
   "pygments_lexer": "ipython3",
   "version": "3.12.7"
  }
 },
 "nbformat": 4,
 "nbformat_minor": 5
}
