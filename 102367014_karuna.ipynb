{
 "cells": [
  {
   "cell_type": "code",
   "execution_count": 11,
   "id": "bbb58cc6-3805-4589-ae0b-0c540426977c",
   "metadata": {},
   "outputs": [
    {
     "name": "stdout",
     "output_type": "stream",
     "text": [
      "cool\n"
     ]
    }
   ],
   "source": [
    "#Q1 Write a Python program to print \"Anything You find cool.\n",
    "print('cool')\n"
   ]
  },
  {
   "cell_type": "code",
   "execution_count": 27,
   "id": "67c15fba-c963-4f21-9b3e-612fee3f462b",
   "metadata": {},
   "outputs": [
    {
     "name": "stdout",
     "output_type": "stream",
     "text": [
      "9\n"
     ]
    }
   ],
   "source": [
    "#Q2,2.1Write a program to add two numbers and print the result\n",
    "a=4\n",
    "b=5\n",
    "res=a+b\n",
    "print(res)\n"
   ]
  },
  {
   "cell_type": "code",
   "execution_count": 31,
   "id": "db5d8954-7af2-46c3-b705-1eace93dea79",
   "metadata": {},
   "outputs": [
    {
     "name": "stdout",
     "output_type": "stream",
     "text": [
      "wonderland\n"
     ]
    }
   ],
   "source": [
    "#2.2Write a program to concatenate two strings and print the result.\n",
    "a='wonder'\n",
    "b='land'\n",
    "res=a+b\n",
    "print(res)"
   ]
  },
  {
   "cell_type": "code",
   "execution_count": 37,
   "id": "13c6387a-8ca1-46dc-b3ab-8f2ba5bfecf8",
   "metadata": {},
   "outputs": [
    {
     "name": "stdout",
     "output_type": "stream",
     "text": [
      "Number.1\n"
     ]
    }
   ],
   "source": [
    "#2.3 Write a program to concatenate a string and a number and print the result\n",
    "a='Number.'\n",
    "b=1\n",
    "res=a+ str(b)\n",
    "print(res)\n"
   ]
  },
  {
   "cell_type": "code",
   "execution_count": 39,
   "id": "68c3ba4f-adc3-498b-9ed6-e6717e0bea70",
   "metadata": {},
   "outputs": [
    {
     "name": "stdin",
     "output_type": "stream",
     "text": [
      "Enter a number: 6\n"
     ]
    },
    {
     "name": "stdout",
     "output_type": "stream",
     "text": [
      " Positive\n"
     ]
    }
   ],
   "source": [
    "#3.1Write a Python program to check if a number is positive, negative, or zero\n",
    "using an if-else statement.\n",
    "a=int(input('Enter the number:'))\n",
    "if a > 0:\n",
    "    print(' Positive')\n",
    "elif a < 0:\n",
    "    print('Negative')\n",
    "else:\n",
    "    print('zero')"
   ]
  },
  {
   "cell_type": "code",
   "execution_count": 41,
   "id": "4021d3a2-71ec-429b-a48c-c9909ead3e64",
   "metadata": {},
   "outputs": [
    {
     "name": "stdin",
     "output_type": "stream",
     "text": [
      "Enter the number: 8\n"
     ]
    },
    {
     "name": "stdout",
     "output_type": "stream",
     "text": [
      "EVEN\n"
     ]
    }
   ],
   "source": [
    "#3.2 Write a program to check if a given number is odd or even.\n",
    "a=int(input('Enter the number:'))\n",
    "if a % 2 ==0:\n",
    "    print('EVEN')\n",
    "else:\n",
    "    print('ODD')\n",
    "    "
   ]
  },
  {
   "cell_type": "code",
   "execution_count": 45,
   "id": "36d891e2-3a56-4106-8def-6e92f8cd6c12",
   "metadata": {},
   "outputs": [
    {
     "name": "stdout",
     "output_type": "stream",
     "text": [
      "1\n",
      "2\n",
      "3\n",
      "4\n",
      "5\n",
      "6\n",
      "7\n",
      "8\n",
      "9\n",
      "10\n"
     ]
    }
   ],
   "source": [
    "#4.1Write a program to print numbers from 1 to 10 using a for loop.\n",
    "for a in range(1,11):\n",
    "    print(a)"
   ]
  },
  {
   "cell_type": "code",
   "execution_count": 58,
   "id": "7b481228-afcb-4fae-86cb-f5fdcd54bef0",
   "metadata": {},
   "outputs": [
    {
     "name": "stdout",
     "output_type": "stream",
     "text": [
      "1\n",
      "2\n",
      "3\n",
      "4\n",
      "5\n",
      "6\n",
      "7\n",
      "8\n",
      "9\n",
      "10\n"
     ]
    }
   ],
   "source": [
    "#4.2 Write a program to print numbers from 1 to 10 using a while loop.\n",
    "i = 1\n",
    "while i <= 10:\n",
    "    print(i)\n",
    "    i = i + 1"
   ]
  },
  {
   "cell_type": "code",
   "execution_count": 62,
   "id": "b1a449f9-4d94-46ec-8f70-0cd2eafcd0ff",
   "metadata": {},
   "outputs": [
    {
     "name": "stdout",
     "output_type": "stream",
     "text": [
      "5050\n"
     ]
    }
   ],
   "source": [
    "#4.3 Write a program to calculate the sum of numbers from 1 to 100 using a loop.\n",
    "sum = 0\n",
    "for x in range(101):\n",
    "    sum = sum + x\n",
    "print(sum)"
   ]
  },
  {
   "cell_type": "code",
   "execution_count": 66,
   "id": "319ca667-6474-411c-90b5-0c53450569a0",
   "metadata": {},
   "outputs": [
    {
     "name": "stdout",
     "output_type": "stream",
     "text": [
      "largest number: 12\n",
      "Smallest number: 4\n"
     ]
    }
   ],
   "source": [
    "#5.1 Create a list of 5 numbers. Write a program to find the largest and smallest\n",
    "#numbers in the list.\n",
    "a = [12, 4 ,7 ,10 ,6]\n",
    "print('largest number:',max(a))\n",
    "print('Smallest number:',min(a))"
   ]
  },
  {
   "cell_type": "code",
   "execution_count": 68,
   "id": "c181c7b5-f415-4149-9d9c-c8f0051fa5bd",
   "metadata": {},
   "outputs": [
    {
     "data": {
      "text/plain": [
       "'Chicken'"
      ]
     },
     "execution_count": 68,
     "metadata": {},
     "output_type": "execute_result"
    }
   ],
   "source": [
    "#5.2 Create a list of 5 numbers. Write a program to find the largest and smallest\n",
    "#numbers in the list.\n",
    "a={'Food':'Chicken','Name':'Riya','Clothes': 'Pants'}\n",
    "a.get('Food','error')"
   ]
  },
  {
   "cell_type": "code",
   "execution_count": 70,
   "id": "87ed54f0-2808-4e6e-a111-d118086ee85e",
   "metadata": {},
   "outputs": [
    {
     "name": "stdout",
     "output_type": "stream",
     "text": [
      "list in ascending order: [2, 8, 10, 14, 17]\n",
      "list in descending order: [17, 14, 10, 8, 2]\n"
     ]
    }
   ],
   "source": [
    "#5.3 Write a program to sort a list of numbers in ascending and descending order\n",
    "a=[2,10,8,17,14]\n",
    "a.sort()\n",
    "print('list in ascending order:',a)\n",
    "a.sort(reverse = True)\n",
    "print('list in descending order:',a)"
   ]
  },
  {
   "cell_type": "code",
   "execution_count": 74,
   "id": "36b2658e-d4de-40e0-8ab3-291c7d2bc761",
   "metadata": {},
   "outputs": [
    {
     "name": "stdout",
     "output_type": "stream",
     "text": [
      "{'Food': 'Mo:Mo', 'city': 'New York', 'car': 'Mercedes', 'Animal': 'dog'}\n"
     ]
    }
   ],
   "source": [
    "#5.4  Write a program to merge two dictionaries into one.\n",
    "dict1 ={'Food':'Mo:Mo','city':'New York'}\n",
    "dict2 ={'car':'Mercedes','Animal':'dog'}\n",
    "dict1.update(dict2)\n",
    "print(dict1)"
   ]
  },
  {
   "cell_type": "code",
   "execution_count": 84,
   "id": "a5853ba9-00b5-46f6-a06f-83a16edc4fef",
   "metadata": {},
   "outputs": [
    {
     "name": "stdin",
     "output_type": "stream",
     "text": [
      "Enter a string: harry potter part one\n"
     ]
    },
    {
     "name": "stdout",
     "output_type": "stream",
     "text": [
      "6\n"
     ]
    }
   ],
   "source": [
    "#6.1 Write a program to count the number of vowels in a given string.\n",
    "a = input('Enter a string:')\n",
    "count_vowels = 0\n",
    "for i in a:\n",
    "    i.lower()\n",
    "    if i == 'a' or i == 'e' or i == 'i' or i == 'o' or i == 'u':\n",
    "        count_vowels = count_vowels + 1\n",
    "print(count_vowels)"
   ]
  },
  {
   "cell_type": "code",
   "execution_count": 86,
   "id": "a0be648e-b686-4480-bf3d-a0079a61c34c",
   "metadata": {},
   "outputs": [
    {
     "name": "stdin",
     "output_type": "stream",
     "text": [
      "Enter a string: library\n"
     ]
    },
    {
     "name": "stdout",
     "output_type": "stream",
     "text": [
      "yrarbil\n"
     ]
    }
   ],
   "source": [
    "#6.2 Write a program to reverse a string and print it.\n",
    "s= input('Enter a string:')\n",
    "s =s[::-1]\n",
    "print(s)\n"
   ]
  },
  {
   "cell_type": "code",
   "execution_count": 88,
   "id": "8ae01c85-1229-487a-9b0d-6295d06a363b",
   "metadata": {},
   "outputs": [
    {
     "name": "stdin",
     "output_type": "stream",
     "text": [
      "enter a string sir\n"
     ]
    },
    {
     "name": "stdout",
     "output_type": "stream",
     "text": [
      "Not palindrome\n"
     ]
    }
   ],
   "source": [
    "#6.3 Write a program to check if a string is a palindrome.\n",
    "s = input('enter a string')\n",
    "if s == s[::-1]:\n",
    "    print('palindrome')\n",
    "else:\n",
    "    print('Not palindrome')\n",
    "    "
   ]
  },
  {
   "cell_type": "code",
   "execution_count": 122,
   "id": "af856463-ae5d-4ddf-8761-95f50f451116",
   "metadata": {},
   "outputs": [
    {
     "name": "stdout",
     "output_type": "stream",
     "text": [
      "File Content is: Just doing my assignment.\n"
     ]
    }
   ],
   "source": [
    "#7.1 Write a program to create a text file, write some text into it, and then read and\n",
    "#print the content.\n",
    "file_name = 'f.txt'\n",
    "with open(file_name, 'w') as file:\n",
    "    file.write('Just doing my assignment.')\n",
    "with open(file_name, 'r') as file:\n",
    "    a = file.read()\n",
    "print('File Content is:', a)"
   ]
  },
  {
   "cell_type": "code",
   "execution_count": 126,
   "id": "c41d2dce-20a8-464c-b79e-9b722a64b10d",
   "metadata": {},
   "outputs": [
    {
     "name": "stdout",
     "output_type": "stream",
     "text": [
      "File Content is:\n",
      " Just doing my assignment.Currently.Currently I am in seventh number of assignment one.\n"
     ]
    }
   ],
   "source": [
    "#7.2 Write a program to append text to an existing file and print the updated\n",
    "#content.\n",
    "file_name = 'f.txt'\n",
    "with open(file_name, 'a') as file:\n",
    "    file.write('Currently I am in seventh number of assignment one.')\n",
    "with open(file_name, 'r') as file:\n",
    "    a = file.read()\n",
    "print('File Content is:\\n', a)"
   ]
  },
  {
   "cell_type": "code",
   "execution_count": 128,
   "id": "f43290d4-79ee-41a9-b32c-5332be7c8490",
   "metadata": {},
   "outputs": [
    {
     "name": "stdout",
     "output_type": "stream",
     "text": [
      "1\n"
     ]
    }
   ],
   "source": [
    "#7.3 Write a program to count the number of lines in a text file.\n",
    "file_name = 'f.txt'\n",
    "with open(file_name, 'r') as file:\n",
    "    lines = file.readlines()\n",
    "    line_count = len(lines)\n",
    "print(line_count)"
   ]
  },
  {
   "cell_type": "code",
   "execution_count": 152,
   "id": "472e435a-1837-465a-9ca5-80e42b8b4c37",
   "metadata": {},
   "outputs": [
    {
     "name": "stdin",
     "output_type": "stream",
     "text": [
      "Enter a number: 5\n",
      "Enter other number: 0\n"
     ]
    },
    {
     "name": "stdout",
     "output_type": "stream",
     "text": [
      "Not able to divide by Zero!\n"
     ]
    }
   ],
   "source": [
    "#8.1 Write a program to handle division by zero using a try-except block.\n",
    "try:\n",
    "    a = int(input('Enter a number:'))\n",
    "    b = int(input('Enter other number:'))\n",
    "    num = a / b\n",
    "except ZeroDivisionError:\n",
    "    print('Not able to divide by Zero!')"
   ]
  },
  {
   "cell_type": "code",
   "execution_count": 156,
   "id": "a91a98bb-46cb-4d3d-a70d-2fd53eb5b6eb",
   "metadata": {},
   "outputs": [
    {
     "name": "stdin",
     "output_type": "stream",
     "text": [
      "Enter a number: six\n"
     ]
    },
    {
     "name": "stdout",
     "output_type": "stream",
     "text": [
      "Wrong input\n"
     ]
    }
   ],
   "source": [
    "#8.2 write a program to handle invalid input (e.g., when the user enters a string\n",
    "#instead of a number).\n",
    "try:\n",
    "    num = input('Enter a number:')\n",
    "    num = int(num)\n",
    "except ValueError:\n",
    "    print('Wrong input')"
   ]
  },
  {
   "cell_type": "code",
   "execution_count": 158,
   "id": "25f543e7-f942-4fc5-9d1a-3d7870850eb7",
   "metadata": {},
   "outputs": [
    {
     "name": "stdin",
     "output_type": "stream",
     "text": [
      "Enter the number  6\n",
      "Enter the number  0\n"
     ]
    },
    {
     "name": "stdout",
     "output_type": "stream",
     "text": [
      "Not able to divible by zero\n",
      "Done\n"
     ]
    }
   ],
   "source": [
    "#8.3 Write a program to demonstrate the use of finally in exception handling.\n",
    "try:\n",
    "    a = int(input('Enter the number '))\n",
    "    b = int(input('Enter the number '))\n",
    "    s = a/b\n",
    "except ZeroDivisionError:\n",
    "    print('Not able to divible by zero')\n",
    "finally:\n",
    "    print('Done')"
   ]
  },
  {
   "cell_type": "code",
   "execution_count": 160,
   "id": "19aa277f-7a5b-494d-870a-a449ccb56d3d",
   "metadata": {},
   "outputs": [
    {
     "name": "stdout",
     "output_type": "stream",
     "text": [
      "81\n",
      "89\n",
      "84\n",
      "74\n",
      "68\n"
     ]
    }
   ],
   "source": [
    "#9.1 Write a program to generate 5 random numbers between 1 and 100 and print\n",
    "#them.\n",
    "import random\n",
    "for i in range(5):\n",
    "    r = random.randint(1,100)\n",
    "    print (r)\n",
    "    "
   ]
  },
  {
   "cell_type": "code",
   "execution_count": 168,
   "id": "6ebd8221-129b-4205-9d5e-c124ede1f9c0",
   "metadata": {},
   "outputs": [
    {
     "name": "stdout",
     "output_type": "stream",
     "text": [
      "12 is not a prime number.\n"
     ]
    }
   ],
   "source": [
    "#9.2 Write a program to generate a random number and check if it is prime.\n",
    "import math\n",
    "num = random.randint(1, 100)\n",
    "flag = 0\n",
    "for i in range(2, int(math.sqrt(num))):\n",
    "    if num % i == 0:\n",
    "        flag = 1\n",
    "        break\n",
    "if flag == 0:\n",
    "    print(f'{num} is a prime number.')\n",
    "else:\n",
    "    print(f'{num} is not a prime number.')"
   ]
  },
  {
   "cell_type": "code",
   "execution_count": 170,
   "id": "27826cc4-0e7f-499f-8dbd-dffc1e9ffce5",
   "metadata": {},
   "outputs": [
    {
     "name": "stdout",
     "output_type": "stream",
     "text": [
      "You got 1\n"
     ]
    }
   ],
   "source": [
    "#9.3 Write a program to simulate rolling a six-sided die.\n",
    "def roll_die():\n",
    "    return random.randint(1, 6)\n",
    "num = roll_die()\n",
    "print(f'You got {num}')"
   ]
  },
  {
   "cell_type": "code",
   "execution_count": 172,
   "id": "2f18b0e0-8d42-4902-a3b2-070af10d7ad4",
   "metadata": {},
   "outputs": [
    {
     "name": "stdout",
     "output_type": "stream",
     "text": [
      "[60, 20, 30, 40, 50, 10]\n"
     ]
    }
   ],
   "source": [
    "#9.4 Write a program to shuffle a list of numbers.\n",
    "list = [10, 20, 30, 40, 50, 60]\n",
    "random.shuffle(list)\n",
    "print(list)"
   ]
  },
  {
   "cell_type": "code",
   "execution_count": 174,
   "id": "30a3e289-e9eb-4cd4-ab13-0a99fcffb1ad",
   "metadata": {},
   "outputs": [
    {
     "name": "stdout",
     "output_type": "stream",
     "text": [
      "10\n"
     ]
    }
   ],
   "source": [
    "#9.5 Write a program to randomly select an item from a list.\n",
    "list = [10, 20, 30, 40, 50, 60]\n",
    "num = random.choice(list)\n",
    "print(num)\n"
   ]
  },
  {
   "cell_type": "code",
   "execution_count": 180,
   "id": "cadcffea-1423-416b-9535-74a1a851317c",
   "metadata": {},
   "outputs": [
    {
     "name": "stdin",
     "output_type": "stream",
     "text": [
      "Enter the length: 14\n"
     ]
    },
    {
     "name": "stdout",
     "output_type": "stream",
     "text": [
      "PB3sEHUEA8T}xL\n"
     ]
    }
   ],
   "source": [
    "#9.6 Write a program to generate a random password of given length.\n",
    "import string\n",
    "length = int(input('Enter the length:'))\n",
    "char = string.ascii_letters + string.punctuation + string.digits\n",
    "password = ''.join(random.choice(char) for i in range(length))\n",
    "print(password)"
   ]
  },
  {
   "cell_type": "code",
   "execution_count": 182,
   "id": "d379f5df-51d0-4c3b-8c22-e32b5532032e",
   "metadata": {},
   "outputs": [
    {
     "name": "stdout",
     "output_type": "stream",
     "text": [
      "3 of Diamond\n"
     ]
    }
   ],
   "source": [
    "#9.7 Write a program to pick a random card from a standard deck of 52 cards.\n",
    "suit = ['Diamond', 'Spades', 'Hearts', 'Clubs']\n",
    "rank = ['2', '3', '4', '5', '6', '7', '8', '9', 'Jack', 'Queen', 'King', 'Ace']\n",
    "s = random.choice(suit)\n",
    "r = random.choice(rank)\n",
    "print(f\"{r} of {s}\")"
   ]
  },
  {
   "cell_type": "code",
   "execution_count": 212,
   "id": "3fa8d704-1db3-4ee5-8855-1c2fd2c05278",
   "metadata": {},
   "outputs": [
    {
     "name": "stdout",
     "output_type": "stream",
     "text": [
      "2\n"
     ]
    }
   ],
   "source": [
    "#10.2 Write a program to accept a string as a command-line argument and print its\n",
    "#length.\n",
    "import sys\n",
    "s = sys.argv[1]\n",
    "print(len(s))"
   ]
  },
  {
   "cell_type": "code",
   "execution_count": 214,
   "id": "5cae8410-919d-438b-919a-d13525ee73d8",
   "metadata": {},
   "outputs": [
    {
     "name": "stdin",
     "output_type": "stream",
     "text": [
      "Enter the number: 6\n"
     ]
    },
    {
     "name": "stdout",
     "output_type": "stream",
     "text": [
      "2.449489742783178\n"
     ]
    }
   ],
   "source": [
    "#11.1  Write a program to use the math library to calculate the square root of a given\n",
    "#number.\n",
    "import math\n",
    "n = int(input('Enter the number:'))\n",
    "print(math.sqrt(n))"
   ]
  },
  {
   "cell_type": "code",
   "execution_count": 216,
   "id": "71ba67a5-455f-4571-ac10-83c8e46129b5",
   "metadata": {},
   "outputs": [
    {
     "name": "stdout",
     "output_type": "stream",
     "text": [
      "2025-01-11 19:52:28.019313\n"
     ]
    }
   ],
   "source": [
    "#11.2 Write a program to use the datetime library to print the current date and time.\n",
    "from datetime import datetime\n",
    "print(datetime.now())"
   ]
  },
  {
   "cell_type": "code",
   "execution_count": 218,
   "id": "fb0537f1-791f-4f63-94f1-1dbedb997a45",
   "metadata": {},
   "outputs": [
    {
     "name": "stdout",
     "output_type": "stream",
     "text": [
      ".bashrc\n",
      ".vimrc\n",
      ".pythonstartup.py\n",
      ".profile\n",
      "README.ipynb\n",
      ".gitconfig\n",
      "Untitled.ipynb\n",
      "f.txt\n"
     ]
    }
   ],
   "source": [
    "#11.3  Write a program to use the os library to list all files in the current directory.\n",
    "import os\n",
    "cur = os.getcwd()\n",
    "files = [f for f in os.listdir(cur) if os.path.isfile(os.path.join(cur, f))]\n",
    "for file in files:\n",
    "    print(file)"
   ]
  },
  {
   "cell_type": "code",
   "execution_count": null,
   "id": "b85cfbca-ee39-45e1-a2d8-f6ca74e6446f",
   "metadata": {},
   "outputs": [],
   "source": [
    "import sys\n",
    "\n",
    "if len(sys.argv) != 3:\n",
    "    print(\"Please provide exactly two numbers as command-line arguments.\")\n",
    "    sys.exit(1)\n",
    "\n",
    "num1 = float(sys.argv[1])\n",
    "num2 = float(sys.argv[2])\n",
    "result = num1 + num2\n",
    "result = float(num1 + num2)\n",
    "print(f\"The sum of {num1} and {num2} is {result}.\")"
   ]
  },
  {
   "attachments": {
    "8ad6fee0-31bb-49d2-a595-c09cd6d77fbf.png": {
     "image/png": "[encoded data removed]"
    }
   },
   "cell_type": "markdown",
   "id": "1a6b4853-256f-47be-89c4-4fc6afeb3d93",
   "metadata": {},
   "source": [
    "![image.png](attachment:8ad6fee0-31bb-49d2-a595-c09cd6d77fbf.png)"
   ]
  },
  {
   "cell_type": "code",
   "execution_count": null,
   "id": "14858a83-cee3-47a9-a447-2a6225013fc6",
   "metadata": {},
   "outputs": [],
   "source": []
  },
  {
   "cell_type": "code",
   "execution_count": null,
   "id": "7f37da2e-72b9-4b51-ab75-5afaf0591e3e",
   "metadata": {},
   "outputs": [],
   "source": []
  }
 ],
 "metadata": {
  "kernelspec": {
   "display_name": "anaconda-2022.05-py39",
   "language": "python",
   "name": "conda-env-anaconda-2022.05-py39-py"
  },
  "language_info": {
   "codemirror_mode": {
    "name": "ipython",
    "version": 3
   },
   "file_extension": ".py",
   "mimetype": "text/x-python",
   "name": "python",
   "nbconvert_exporter": "python",
   "pygments_lexer": "ipython3",
   "version": "3.9.12"
  }
 },
 "nbformat": 4,
 "nbformat_minor": 5
}
