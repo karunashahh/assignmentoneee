{
 "cells": [
  {
   "cell_type": "markdown",
   "id": "c7670100-7f8d-4fe4-9bb3-5f4c26931cd5",
   "metadata": {},
   "source": [
    "Q.1 Create a dataset as follow in the table. \n"
   ]
  },
  {
   "cell_type": "code",
   "execution_count": 1,
   "id": "c26ddcb7-e2f0-462d-819f-fd10fc377794",
   "metadata": {},
   "outputs": [
    {
     "data": {
      "text/html": [
       "<div>\n",
       "<style scoped>\n",
       "    .dataframe tbody tr th:only-of-type {\n",
       "        vertical-align: middle;\n",
       "    }\n",
       "\n",
       "    .dataframe tbody tr th {\n",
       "        vertical-align: top;\n",
       "    }\n",
       "\n",
       "    .dataframe thead th {\n",
       "        text-align: right;\n",
       "    }\n",
       "</style>\n",
       "<table border=\"1\" class=\"dataframe\">\n",
       "  <thead>\n",
       "    <tr style=\"text-align: right;\">\n",
       "      <th></th>\n",
       "      <th>Tid</th>\n",
       "      <th>Refund</th>\n",
       "      <th>Martial Status</th>\n",
       "      <th>Taxable Income</th>\n",
       "      <th>Cheat</th>\n",
       "    </tr>\n",
       "  </thead>\n",
       "  <tbody>\n",
       "    <tr>\n",
       "      <th>0</th>\n",
       "      <td>1</td>\n",
       "      <td>yes</td>\n",
       "      <td>single</td>\n",
       "      <td>125k</td>\n",
       "      <td>no</td>\n",
       "    </tr>\n",
       "    <tr>\n",
       "      <th>1</th>\n",
       "      <td>2</td>\n",
       "      <td>no</td>\n",
       "      <td>married</td>\n",
       "      <td>100k</td>\n",
       "      <td>no</td>\n",
       "    </tr>\n",
       "    <tr>\n",
       "      <th>2</th>\n",
       "      <td>3</td>\n",
       "      <td>no</td>\n",
       "      <td>single</td>\n",
       "      <td>70k</td>\n",
       "      <td>no</td>\n",
       "    </tr>\n",
       "    <tr>\n",
       "      <th>3</th>\n",
       "      <td>4</td>\n",
       "      <td>yes</td>\n",
       "      <td>married</td>\n",
       "      <td>120k</td>\n",
       "      <td>no</td>\n",
       "    </tr>\n",
       "    <tr>\n",
       "      <th>4</th>\n",
       "      <td>5</td>\n",
       "      <td>no</td>\n",
       "      <td>divorced</td>\n",
       "      <td>95k</td>\n",
       "      <td>yes</td>\n",
       "    </tr>\n",
       "    <tr>\n",
       "      <th>5</th>\n",
       "      <td>6</td>\n",
       "      <td>no</td>\n",
       "      <td>married</td>\n",
       "      <td>60k</td>\n",
       "      <td>no</td>\n",
       "    </tr>\n",
       "    <tr>\n",
       "      <th>6</th>\n",
       "      <td>7</td>\n",
       "      <td>yes</td>\n",
       "      <td>divorced</td>\n",
       "      <td>220k</td>\n",
       "      <td>no</td>\n",
       "    </tr>\n",
       "    <tr>\n",
       "      <th>7</th>\n",
       "      <td>8</td>\n",
       "      <td>no</td>\n",
       "      <td>single</td>\n",
       "      <td>85k</td>\n",
       "      <td>yes</td>\n",
       "    </tr>\n",
       "    <tr>\n",
       "      <th>8</th>\n",
       "      <td>9</td>\n",
       "      <td>no</td>\n",
       "      <td>married</td>\n",
       "      <td>75k</td>\n",
       "      <td>no</td>\n",
       "    </tr>\n",
       "    <tr>\n",
       "      <th>9</th>\n",
       "      <td>10</td>\n",
       "      <td>no</td>\n",
       "      <td>single</td>\n",
       "      <td>90k</td>\n",
       "      <td>yes</td>\n",
       "    </tr>\n",
       "  </tbody>\n",
       "</table>\n",
       "</div>"
      ],
      "text/plain": [
       "   Tid Refund Martial Status Taxable Income Cheat\n",
       "0    1    yes         single           125k    no\n",
       "1    2     no        married           100k    no\n",
       "2    3     no         single            70k    no\n",
       "3    4    yes        married           120k    no\n",
       "4    5     no       divorced            95k   yes\n",
       "5    6     no        married            60k    no\n",
       "6    7    yes       divorced           220k    no\n",
       "7    8     no         single            85k   yes\n",
       "8    9     no        married            75k    no\n",
       "9   10     no         single            90k   yes"
      ]
     },
     "execution_count": 1,
     "metadata": {},
     "output_type": "execute_result"
    }
   ],
   "source": [
    "import pandas as pd\n",
    "\n",
    "data={\n",
    "    \"Tid\":[1,2,3,4,5,6,7,8,9,10],\n",
    "    \"Refund\":[\"yes\",\"no\",\"no\",\"yes\",\"no\",\"no\",\"yes\",\"no\",\"no\",\"no\"],\n",
    "    \"Martial Status\":[\"single\",\"married\",\"single\",\"married\",\"divorced\",\"married\",\"divorced\",\"single\",\"married\",\"single\"],\n",
    "    \"Taxable Income\":[\"125k\",\"100k\",\"70k\",\"120k\",\"95k\",\"60k\",\"220k\",\"85k\",\"75k\",\"90k\"],\n",
    "    \"Cheat\":[\"no\",\"no\",\"no\",\"no\",\"yes\",\"no\",\"no\",\"yes\",\"no\",\"yes\"]\n",
    "}\n",
    "df=pd.DataFrame(data)\n",
    "df\n",
    "\n"
   ]
  },
  {
   "cell_type": "markdown",
   "id": "df823622-38d8-471f-86dc-d981668840f4",
   "metadata": {},
   "source": [
    "Q.2 From the above table that you have created, locate row 0, 4, 7 and 8 using DataFrame"
   ]
  },
  {
   "cell_type": "code",
   "execution_count": 3,
   "id": "c1ba5780-c5fe-4a3f-bd96-1517763455c8",
   "metadata": {},
   "outputs": [
    {
     "name": "stdout",
     "output_type": "stream",
     "text": [
      "   Tid Refund Martial Status Taxable Income Cheat\n",
      "0    1    yes         single           125k    no\n",
      "4    5     no       divorced            95k   yes\n",
      "7    8     no         single            85k   yes\n",
      "8    9     no        married            75k    no\n"
     ]
    }
   ],
   "source": [
    "print(df.iloc[[0,4,7,8]])\n",
    "     "
   ]
  },
  {
   "cell_type": "markdown",
   "id": "c0f2ad32-70ba-4e4f-81b5-ae7d80ac7dc3",
   "metadata": {},
   "source": [
    "Q.3 Navigate the DataFrame and do the following task for the table created in question 1: \n",
    "1. Select row from index 3 to 7. \n",
    "2. Select row from index 4 to 8, and column 2 to 4. \n",
    "3. Select all rows with column index 1 to 3 (include index 3 during selection). "
   ]
  },
  {
   "cell_type": "code",
   "execution_count": 5,
   "id": "3a6d497c-d7aa-4f2e-867a-31eabda8128b",
   "metadata": {},
   "outputs": [
    {
     "name": "stdout",
     "output_type": "stream",
     "text": [
      "   Tid Refund Martial Status Taxable Income Cheat\n",
      "3    4    yes        married           120k    no\n",
      "4    5     no       divorced            95k   yes\n",
      "5    6     no        married            60k    no\n",
      "6    7    yes       divorced           220k    no\n",
      "7    8     no         single            85k   yes\n",
      "  Martial Status Taxable Income Cheat\n",
      "4       divorced            95k   yes\n",
      "5        married            60k    no\n",
      "6       divorced           220k    no\n",
      "7         single            85k   yes\n",
      "8        married            75k    no\n",
      "  Refund Martial Status Taxable Income\n",
      "0    yes         single           125k\n",
      "1     no        married           100k\n",
      "2     no         single            70k\n",
      "3    yes        married           120k\n",
      "4     no       divorced            95k\n",
      "5     no        married            60k\n",
      "6    yes       divorced           220k\n",
      "7     no         single            85k\n",
      "8     no        married            75k\n",
      "9     no         single            90k\n"
     ]
    }
   ],
   "source": [
    "print(df.iloc[3:8])\n",
    "print(df.iloc[4:9,2:5])\n",
    "print(df.iloc[:,1:4])\n"
   ]
  },
  {
   "cell_type": "markdown",
   "id": "21064d20-8977-4d85-8cd7-1f3084da2283",
   "metadata": {},
   "source": [
    "Q.4 Read a csv file and display its first five rows. \n"
   ]
  },
  {
   "cell_type": "code",
   "execution_count": 50,
   "id": "b786c94a-9ba3-4745-a962-a9d51ad271d3",
   "metadata": {},
   "outputs": [
    {
     "name": "stdout",
     "output_type": "stream",
     "text": [
      "   Id  SepalLengthCm  SepalWidthCm  PetalLengthCm  PetalWidthCm      Species\n",
      "0   1            5.1           3.5            1.4           0.2  Iris-setosa\n",
      "1   2            4.9           3.0            1.4           0.2  Iris-setosa\n",
      "2   3            4.7           3.2            1.3           0.2  Iris-setosa\n",
      "3   4            4.6           3.1            1.5           0.2  Iris-setosa\n",
      "4   5            5.0           3.6            1.4           0.2  Iris-setosa\n"
     ]
    }
   ],
   "source": [
    "import pandas as pd\n",
    "file_path = r\"C:\\Users\\dil\\Downloads\\Iris.csv\"  \n",
    "df = pd.read_csv(file_path)\n",
    "print(df.head())"
   ]
  },
  {
   "cell_type": "markdown",
   "id": "39e2a055-6b64-4de3-9216-9ee85dfe689b",
   "metadata": {},
   "source": [
    "Q5. From the csv file (uploaded in the Q.4) delete row 4, and delete column 3. Display the result."
   ]
  },
  {
   "cell_type": "code",
   "execution_count": 15,
   "id": "d98c3e87-2dd6-46dd-8c8d-68cf8180e047",
   "metadata": {},
   "outputs": [
    {
     "name": "stdout",
     "output_type": "stream",
     "text": [
      "   Tid Refund Martial Status Cheat\n",
      "0    1    yes         single    no\n",
      "1    2     no        married    no\n",
      "2    3     no         single    no\n",
      "3    4    yes        married    no\n",
      "5    6     no        married    no\n",
      "6    7    yes       divorced    no\n",
      "7    8     no         single   yes\n",
      "8    9     no        married    no\n",
      "9   10     no         single   yes\n"
     ]
    }
   ],
   "source": [
    "df.drop(4,axis=0,inplace=True)\n",
    "df.drop(df.columns[3],axis=1,inplace=True)\n",
    "print(df)"
   ]
  },
  {
   "cell_type": "markdown",
   "id": "c6c4b5bc-2057-4b9d-ad71-673de7a360cc",
   "metadata": {},
   "source": [
    "Q.6"
   ]
  },
  {
   "cell_type": "code",
   "execution_count": 17,
   "id": "599b2278-faa2-403d-9ed3-efc176200cac",
   "metadata": {},
   "outputs": [
    {
     "name": "stdout",
     "output_type": "stream",
     "text": [
      "   Employee id     Name Department  Age  Salary  Years_Of_Experience  \\\n",
      "0          101    Alice         HR   29   50000                    4   \n",
      "1          102      Bob         IT   34   70000                    8   \n",
      "2          103  Charlie         IT   41   65000                   10   \n",
      "3          104    Diana  Marketing   28   55000                    3   \n",
      "4          105   Edward      Sales   38   60000                   12   \n",
      "\n",
      "  Joining_Date  Gender  Bonus  Rating  \n",
      "0   2020-03-15  Female   5000     4.5  \n",
      "1   2017-07-19    Male   7000     4.0  \n",
      "2   2013-06-01    Male   6000     3.8  \n",
      "3   2021-02-10  Female   4500     4.7  \n",
      "4   2010-11-25    Male   5000     3.5  \n"
     ]
    }
   ],
   "source": [
    "data=pd.DataFrame({\n",
    "    \"Employee id\":[101,102,103,104,105],\n",
    "    \"Name\":[\"Alice\",\"Bob\",\"Charlie\",\"Diana\",\"Edward\"],\n",
    "    \"Department\":[\"HR\",\"IT\",\"IT\",\"Marketing\",\"Sales\"],\n",
    "    \"Age\":[29,34,41,28,38],\n",
    "    \"Salary\":[50000,70000,65000,55000,60000],\n",
    "    \"Years_Of_Experience\":[4,8,10,3,12],\n",
    "    \"Joining_Date\":[\"2020-03-15\",\"2017-07-19\",\"2013-06-01\",\"2021-02-10\",\"2010-11-25\"],\n",
    "    \"Gender\":[\"Female\",\"Male\",\"Male\",\"Female\",\"Male\"],\n",
    "    \"Bonus\":[5000,7000,6000,4500,5000],\n",
    "    \"Rating\":[4.5,4.0,3.8,4.7,3.5]\n",
    "})\n",
    "print(data)\n",
    "     "
   ]
  },
  {
   "cell_type": "markdown",
   "id": "b9159d26-8e29-4307-b099-135fa5c0396a",
   "metadata": {},
   "source": [
    "a) Shape (number of rows and columns) of the DataFrame. \n",
    "b) Summary of the DataFrame that includes the data types and non-null counts for \n",
    "each column. \n",
    "c) Generate descriptive statistics. \n"
   ]
  },
  {
   "cell_type": "code",
   "execution_count": 19,
   "id": "820b1544-078a-4c0f-8538-a842c53521ea",
   "metadata": {},
   "outputs": [
    {
     "name": "stdout",
     "output_type": "stream",
     "text": [
      "(5, 10)\n",
      "<class 'pandas.core.frame.DataFrame'>\n",
      "RangeIndex: 5 entries, 0 to 4\n",
      "Data columns (total 10 columns):\n",
      " #   Column               Non-Null Count  Dtype  \n",
      "---  ------               --------------  -----  \n",
      " 0   Employee id          5 non-null      int64  \n",
      " 1   Name                 5 non-null      object \n",
      " 2   Department           5 non-null      object \n",
      " 3   Age                  5 non-null      int64  \n",
      " 4   Salary               5 non-null      int64  \n",
      " 5   Years_Of_Experience  5 non-null      int64  \n",
      " 6   Joining_Date         5 non-null      object \n",
      " 7   Gender               5 non-null      object \n",
      " 8   Bonus                5 non-null      int64  \n",
      " 9   Rating               5 non-null      float64\n",
      "dtypes: float64(1), int64(5), object(4)\n",
      "memory usage: 532.0+ bytes\n",
      "None\n",
      "       Employee id        Age       Salary  Years_Of_Experience   Bonus  \\\n",
      "count     5.000000   5.000000      5.00000             5.000000     5.0   \n",
      "mean    103.000000  34.000000  60000.00000             7.400000  5500.0   \n",
      "std       1.581139   5.612486   7905.69415             3.847077  1000.0   \n",
      "min     101.000000  28.000000  50000.00000             3.000000  4500.0   \n",
      "25%     102.000000  29.000000  55000.00000             4.000000  5000.0   \n",
      "50%     103.000000  34.000000  60000.00000             8.000000  5000.0   \n",
      "75%     104.000000  38.000000  65000.00000            10.000000  6000.0   \n",
      "max     105.000000  41.000000  70000.00000            12.000000  7000.0   \n",
      "\n",
      "         Rating  \n",
      "count  5.000000  \n",
      "mean   4.100000  \n",
      "std    0.494975  \n",
      "min    3.500000  \n",
      "25%    3.800000  \n",
      "50%    4.000000  \n",
      "75%    4.500000  \n",
      "max    4.700000  \n"
     ]
    }
   ],
   "source": [
    "print(data.shape)\n",
    "print(data.info())\n",
    "print(data.describe())\n",
    "     \n"
   ]
  },
  {
   "cell_type": "markdown",
   "id": "54c32d96-dccb-4364-84c3-11cd92b1845a",
   "metadata": {},
   "source": [
    "d) Display the first 5 rows and last 3 rows of the dataset. "
   ]
  },
  {
   "cell_type": "code",
   "execution_count": 21,
   "id": "a38451c6-f98f-4f9e-a371-a837708b256f",
   "metadata": {},
   "outputs": [
    {
     "name": "stdout",
     "output_type": "stream",
     "text": [
      "   Employee id     Name Department  Age  Salary  Years_Of_Experience  \\\n",
      "0          101    Alice         HR   29   50000                    4   \n",
      "1          102      Bob         IT   34   70000                    8   \n",
      "2          103  Charlie         IT   41   65000                   10   \n",
      "3          104    Diana  Marketing   28   55000                    3   \n",
      "4          105   Edward      Sales   38   60000                   12   \n",
      "\n",
      "  Joining_Date  Gender  Bonus  Rating  \n",
      "0   2020-03-15  Female   5000     4.5  \n",
      "1   2017-07-19    Male   7000     4.0  \n",
      "2   2013-06-01    Male   6000     3.8  \n",
      "3   2021-02-10  Female   4500     4.7  \n",
      "4   2010-11-25    Male   5000     3.5  \n",
      "   Employee id     Name Department  Age  Salary  Years_Of_Experience  \\\n",
      "2          103  Charlie         IT   41   65000                   10   \n",
      "3          104    Diana  Marketing   28   55000                    3   \n",
      "4          105   Edward      Sales   38   60000                   12   \n",
      "\n",
      "  Joining_Date  Gender  Bonus  Rating  \n",
      "2   2013-06-01    Male   6000     3.8  \n",
      "3   2021-02-10  Female   4500     4.7  \n",
      "4   2010-11-25    Male   5000     3.5  \n"
     ]
    }
   ],
   "source": [
    "print(data.head(5))\n",
    "print(data.tail(3))\n",
    "     "
   ]
  },
  {
   "cell_type": "markdown",
   "id": "f92727dd-9d73-446c-935f-c6644e86f75b",
   "metadata": {},
   "source": [
    "e) Calculate the following statistics from the dataset: \n",
    "i. The average salary of employees. \n",
    "ii. The total bonus paid to all employees. \n",
    "iii. The youngest employee's age. \n",
    "iv. The highest performance rating. "
   ]
  },
  {
   "cell_type": "code",
   "execution_count": 23,
   "id": "90743eb5-f6e3-4734-acd1-df4e26b9abfd",
   "metadata": {},
   "outputs": [
    {
     "name": "stdout",
     "output_type": "stream",
     "text": [
      "60000.0\n",
      "27500\n",
      "28\n",
      "4.7\n"
     ]
    }
   ],
   "source": [
    "avg=data[\"Salary\"].mean()\n",
    "print(avg)\n",
    "\n",
    "bonus=data[\"Bonus\"].sum()\n",
    "print(bonus)\n",
    "\n",
    "y=data[\"Age\"].min()\n",
    "print(y)\n",
    "\n",
    "rat=data[\"Rating\"].max()\n",
    "print(rat)"
   ]
  },
  {
   "cell_type": "markdown",
   "id": "74b5cce0-8392-4694-92a5-5b2000ef32ef",
   "metadata": {},
   "source": [
    "f) Sort the DataFrame by the Salary column in descending order. \n"
   ]
  },
  {
   "cell_type": "code",
   "execution_count": 25,
   "id": "ea6d0d0d-1fe0-49af-87f9-df3cdab1f28e",
   "metadata": {},
   "outputs": [
    {
     "name": "stdout",
     "output_type": "stream",
     "text": [
      "   Employee id     Name Department  Age  Salary  Years_Of_Experience  \\\n",
      "1          102      Bob         IT   34   70000                    8   \n",
      "2          103  Charlie         IT   41   65000                   10   \n",
      "4          105   Edward      Sales   38   60000                   12   \n",
      "3          104    Diana  Marketing   28   55000                    3   \n",
      "0          101    Alice         HR   29   50000                    4   \n",
      "\n",
      "  Joining_Date  Gender  Bonus  Rating  \n",
      "1   2017-07-19    Male   7000     4.0  \n",
      "2   2013-06-01    Male   6000     3.8  \n",
      "4   2010-11-25    Male   5000     3.5  \n",
      "3   2021-02-10  Female   4500     4.7  \n",
      "0   2020-03-15  Female   5000     4.5  \n"
     ]
    }
   ],
   "source": [
    "sorted=data.sort_values(by=\"Salary\",ascending=False)\n",
    "print(sorted.head())"
   ]
  },
  {
   "cell_type": "markdown",
   "id": "2577ee90-ff9a-44cf-9fdf-282017f0343a",
   "metadata": {},
   "source": [
    "g) Add a new column that categorizes employees based on their performance rating: \n",
    "i. Excellent for ratings >= 4.5 \n",
    "ii. Good for ratings >= 4.0 but < 4.5 \n",
    "iii. Average for ratings < 4.0"
   ]
  },
  {
   "cell_type": "code",
   "execution_count": 27,
   "id": "a98dc760-ffa0-4a01-bff9-e1e62cf2b0a9",
   "metadata": {},
   "outputs": [
    {
     "name": "stdout",
     "output_type": "stream",
     "text": [
      "   Employee id     Name Department  Age  Salary  Years_Of_Experience  \\\n",
      "0          101    Alice         HR   29   50000                    4   \n",
      "1          102      Bob         IT   34   70000                    8   \n",
      "2          103  Charlie         IT   41   65000                   10   \n",
      "3          104    Diana  Marketing   28   55000                    3   \n",
      "4          105   Edward      Sales   38   60000                   12   \n",
      "\n",
      "  Joining_Date  Gender  Bonus  Rating Performance  \n",
      "0   2020-03-15  Female   5000     4.5   Excellent  \n",
      "1   2017-07-19    Male   7000     4.0        Good  \n",
      "2   2013-06-01    Male   6000     3.8     Average  \n",
      "3   2021-02-10  Female   4500     4.7   Excellent  \n",
      "4   2010-11-25    Male   5000     3.5     Average  \n"
     ]
    }
   ],
   "source": [
    "def category(rating):\n",
    "  if(rating>=4.5):\n",
    "    return \"Excellent\"\n",
    "  elif (rating>=4.0 and rating<4.5):\n",
    "    return \"Good\"\n",
    "  else:\n",
    "    return \"Average\"\n",
    "\n",
    "data[\"Performance\"]=data[\"Rating\"].apply(category)\n",
    "print(data.head())"
   ]
  },
  {
   "cell_type": "markdown",
   "id": "5a2d6f53-ba20-4190-8e8c-3920af87f102",
   "metadata": {},
   "source": [
    "h) Identify missing values in the DataFrame. \n"
   ]
  },
  {
   "cell_type": "code",
   "execution_count": 29,
   "id": "0e2131db-321f-42b2-910f-891332f7a604",
   "metadata": {},
   "outputs": [
    {
     "name": "stdout",
     "output_type": "stream",
     "text": [
      "   Employee id   Name  Department    Age  Salary  Years_Of_Experience  \\\n",
      "0        False  False       False  False   False                False   \n",
      "1        False  False       False  False   False                False   \n",
      "2        False  False       False  False   False                False   \n",
      "3        False  False       False  False   False                False   \n",
      "4        False  False       False  False   False                False   \n",
      "\n",
      "   Joining_Date  Gender  Bonus  Rating  Performance  \n",
      "0         False   False  False   False        False  \n",
      "1         False   False  False   False        False  \n",
      "2         False   False  False   False        False  \n",
      "3         False   False  False   False        False  \n",
      "4         False   False  False   False        False  \n"
     ]
    }
   ],
   "source": [
    "miss=data.isnull()\n",
    "print(miss)"
   ]
  },
  {
   "cell_type": "markdown",
   "id": "9b27db58-5690-446b-8ed3-a19c041f6077",
   "metadata": {},
   "source": [
    "i) Rename the Employee_ID column to ID. "
   ]
  },
  {
   "cell_type": "code",
   "execution_count": 31,
   "id": "f5f98ebd-28a1-4393-8cb3-4ac12561e984",
   "metadata": {},
   "outputs": [
    {
     "name": "stdout",
     "output_type": "stream",
     "text": [
      "    ID     Name Department  Age  Salary  Years_Of_Experience Joining_Date  \\\n",
      "0  101    Alice         HR   29   50000                    4   2020-03-15   \n",
      "1  102      Bob         IT   34   70000                    8   2017-07-19   \n",
      "2  103  Charlie         IT   41   65000                   10   2013-06-01   \n",
      "3  104    Diana  Marketing   28   55000                    3   2021-02-10   \n",
      "4  105   Edward      Sales   38   60000                   12   2010-11-25   \n",
      "\n",
      "   Gender  Bonus  Rating Performance  \n",
      "0  Female   5000     4.5   Excellent  \n",
      "1    Male   7000     4.0        Good  \n",
      "2    Male   6000     3.8     Average  \n",
      "3  Female   4500     4.7   Excellent  \n",
      "4    Male   5000     3.5     Average  \n"
     ]
    }
   ],
   "source": [
    "data.rename(columns={\"Employee id\":\"ID\"},inplace=True)\n",
    "print(data.head())\n",
    "     "
   ]
  },
  {
   "cell_type": "markdown",
   "id": "c425de64-0a59-41ef-9b7a-cc6e653dac0f",
   "metadata": {},
   "source": [
    "j) Find all employees who: \n",
    "i. Have more than 5 years of experience. \n",
    "ii. Belong to the IT department. \n"
   ]
  },
  {
   "cell_type": "code",
   "execution_count": 33,
   "id": "2232bc2c-7fb9-4829-8623-e4c59cd53e6c",
   "metadata": {},
   "outputs": [
    {
     "name": "stdout",
     "output_type": "stream",
     "text": [
      "0    False\n",
      "1     True\n",
      "2     True\n",
      "3    False\n",
      "4     True\n",
      "Name: Years_Of_Experience, dtype: bool\n",
      "0    False\n",
      "1     True\n",
      "2     True\n",
      "3    False\n",
      "4    False\n",
      "Name: Department, dtype: bool\n"
     ]
    }
   ],
   "source": [
    "print(data[\"Years_Of_Experience\"]>5)\n",
    "print(data[\"Department\"]==\"IT\")\n",
    "     "
   ]
  },
  {
   "cell_type": "markdown",
   "id": "175bb69d-ff04-4ffe-9998-dc4fe1325a3c",
   "metadata": {},
   "source": [
    "k) Modify the dataset by adding a new column, Tax, which deducts 10% of the \n",
    "Salary. "
   ]
  },
  {
   "cell_type": "code",
   "execution_count": 35,
   "id": "275d629a-4c5b-45c5-9177-b7c858b74d98",
   "metadata": {},
   "outputs": [
    {
     "name": "stdout",
     "output_type": "stream",
     "text": [
      "    ID     Name Department  Age  Salary  Years_Of_Experience Joining_Date  \\\n",
      "0  101    Alice         HR   29   50000                    4   2020-03-15   \n",
      "1  102      Bob         IT   34   70000                    8   2017-07-19   \n",
      "2  103  Charlie         IT   41   65000                   10   2013-06-01   \n",
      "3  104    Diana  Marketing   28   55000                    3   2021-02-10   \n",
      "4  105   Edward      Sales   38   60000                   12   2010-11-25   \n",
      "\n",
      "   Gender  Bonus  Rating Performance     Tax  \n",
      "0  Female   5000     4.5   Excellent  5000.0  \n",
      "1    Male   7000     4.0        Good  7000.0  \n",
      "2    Male   6000     3.8     Average  6500.0  \n",
      "3  Female   4500     4.7   Excellent  5500.0  \n",
      "4    Male   5000     3.5     Average  6000.0  \n"
     ]
    }
   ],
   "source": [
    "data [\"Tax\"]=data[\"Salary\"]*0.10\n",
    "print(data.head())\n",
    "     "
   ]
  },
  {
   "cell_type": "markdown",
   "id": "bfedad80-a140-4acf-8f12-5759bdfec4e7",
   "metadata": {},
   "source": [
    "l) Save the modified DataFrame (with added columns) to a new CSV file."
   ]
  },
  {
   "cell_type": "code",
   "execution_count": 37,
   "id": "3bcc98fb-e774-457b-b410-184173d50c7e",
   "metadata": {},
   "outputs": [],
   "source": [
    "data.to_csv(\"ans.csv\",index=False)"
   ]
  },
  {
   "cell_type": "code",
   "execution_count": null,
   "id": "87bc2ac5-dc3b-4be9-a08e-6f46993b7d01",
   "metadata": {},
   "outputs": [],
   "source": []
  }
 ],
 "metadata": {
  "kernelspec": {
   "display_name": "Python [conda env:base] *",
   "language": "python",
   "name": "conda-base-py"
  },
  "language_info": {
   "codemirror_mode": {
    "name": "ipython",
    "version": 3
   },
   "file_extension": ".py",
   "mimetype": "text/x-python",
   "name": "python",
   "nbconvert_exporter": "python",
   "pygments_lexer": "ipython3",
   "version": "3.12.7"
  }
 },
 "nbformat": 4,
 "nbformat_minor": 5
}
