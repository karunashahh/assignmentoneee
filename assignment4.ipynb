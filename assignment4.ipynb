{
 "cells": [
  {
   "cell_type": "markdown",
   "id": "ce0176ea-2c71-4d0d-b3ed-975a678a43ce",
   "metadata": {},
   "source": [
    "Q.1 Write a program to create a NumPy 1D-array with 5 elements and perform basic \n",
    "operations like: \n",
    "a) Addition of 2 in all the element \n",
    "b) Multiply 3 with all the elements \n",
    "c) Divide every element by 2 "
   ]
  },
  {
   "cell_type": "code",
   "execution_count": 1,
   "id": "279ee6d2-cf15-432f-8119-2e553ce1d425",
   "metadata": {},
   "outputs": [
    {
     "name": "stdout",
     "output_type": "stream",
     "text": [
      "Array after adding 2: [3 4 5 6 7]\n",
      "Array after multiplying by 3: [ 3  6  9 12 15]\n",
      "Array after dividing by 2: [0.5 1.  1.5 2.  2.5]\n"
     ]
    }
   ],
   "source": [
    "import numpy as np\n",
    "\n",
    "array = np.array([1, 2, 3, 4, 5])\n",
    "# a) Addition\n",
    "added_array = array + 2\n",
    "print(\"Array after adding 2:\", added_array)\n",
    "# b) Multiply\n",
    "multiplied_array = array * 3\n",
    "print(\"Array after multiplying by 3:\", multiplied_array)\n",
    "# c) Divide every element by 2\n",
    "divided_array = array / 2\n",
    "print(\"Array after dividing by 2:\", divided_array)"
   ]
  },
  {
   "cell_type": "markdown",
   "id": "dd257fb2-ae31-4e10-bee0-aa1936f820f2",
   "metadata": {},
   "source": [
    "Q.2 Questions on Basic NumPy Array: \n",
    "a) Reverse the NumPy array: arr = np.array([1, 2, 3, 6, 4, 5]) \n",
    "b) Find the most frequent value and their indice(s) in the following arrays: \n",
    "i. x = np.array([1,2,3,4,5,1,2,1,1,1]) \n",
    "ii. y = np.array([1, 1, 1, 2, 3, 4, 2, 4, 3, 3, ]) "
   ]
  },
  {
   "cell_type": "code",
   "execution_count": 3,
   "id": "ccd5f49d-c83d-4170-b4ef-d579533e5233",
   "metadata": {},
   "outputs": [
    {
     "name": "stdout",
     "output_type": "stream",
     "text": [
      "Reversed array: [5 4 6 3 2 1]\n",
      "Most frequent value in x: 1\n",
      "Indices: [0 5 7 8 9]\n",
      "Most frequent value in y: 1\n",
      "Indices: [0 1 2]\n"
     ]
    }
   ],
   "source": [
    "import numpy as np\n",
    "\n",
    "# Given array\n",
    "arr = np.array([1, 2, 3, 6, 4, 5])\n",
    "\n",
    "# a)Reverse the array\n",
    "reversed_arr = arr[::-1]\n",
    "print(\"Reversed array:\", reversed_arr)\n",
    "# b)\n",
    "#for x\n",
    "x = np.array([1,2,3,4,5,1,2,1,1,1])\n",
    "\n",
    "# Find the most frequent value\n",
    "unique, counts = np.unique(x, return_counts=True)\n",
    "most_frequent_value = unique[np.argmax(counts)]\n",
    "\n",
    "# Find indices of the most frequent value\n",
    "indices = np.where(x == most_frequent_value)[0]\n",
    "\n",
    "print(\"Most frequent value in x:\", most_frequent_value)\n",
    "print(\"Indices:\", indices)\n",
    "\n",
    "# for y\n",
    "y = np.array([1, 1, 1, 2, 3, 4, 2, 4, 3, 3])\n",
    "\n",
    "# Find the most frequent value\n",
    "unique, counts = np.unique(y, return_counts=True)\n",
    "most_frequent_value = unique[np.argmax(counts)]\n",
    "\n",
    "# Find indices of the most frequent value\n",
    "indices = np.where(y == most_frequent_value)[0]\n",
    "\n",
    "print(\"Most frequent value in y:\", most_frequent_value)\n",
    "print(\"Indices:\", indices)\n",
    "\n",
    "     "
   ]
  },
  {
   "cell_type": "markdown",
   "id": "19f9309e-f59b-4663-b766-6cd510aad88b",
   "metadata": {},
   "source": [
    "Q.3 For the given 2-D array arr=np.array([10, 20, 30], [40, 50, 60], [70, 80, 90]), access \n",
    "elements using row and column indices as follows: \n",
    "a) Access 1st row, 2nd column \n",
    "b) Access 3rd row, 1st column \n"
   ]
  },
  {
   "cell_type": "code",
   "execution_count": 7,
   "id": "0b71fd03-7dda-4107-bfff-5f7e0d6db5cc",
   "metadata": {},
   "outputs": [
    {
     "name": "stdout",
     "output_type": "stream",
     "text": [
      "Element at 1st row, 2nd column: 20\n",
      "Element at 3rd row, 1st column: 70\n"
     ]
    }
   ],
   "source": [
    "import numpy as np\n",
    "\n",
    "arr = np.array([[10, 20, 30],[40, 50, 60], [70, 80, 90]])\n",
    "\n",
    "element_a = arr[0, 1]\n",
    "print(\"Element at 1st row, 2nd column:\", element_a)\n",
    "\n",
    "element_b = arr[2, 0]\n",
    "print(\"Element at 3rd row, 1st column:\", element_b)"
   ]
  },
  {
   "cell_type": "markdown",
   "id": "0d3e62d8-639c-469d-b331-f764ad155def",
   "metadata": {},
   "source": [
    "Q.4 Write program to create an 1-D NumPy array named <<Your Name>> with evenly \n",
    "spaced 25 numbers from 10 to 100 using linspace(). Print the dimensions of the array, \n",
    "shape, total elements, the data type of each element and total number of bytes consumed \n",
    "by the array. Find the transpose of this array using reshape() attribute. Can we do the same \n",
    "with T attribute? "
   ]
  },
  {
   "cell_type": "code",
   "execution_count": 9,
   "id": "e23d8bbc-3b5e-4f24-9498-c7ff4b19be07",
   "metadata": {},
   "outputs": [
    {
     "name": "stdout",
     "output_type": "stream",
     "text": [
      "Dimensions of the array: 1\n",
      "Shape of the array: (25,)\n",
      "Total elements in the array: 25\n",
      "Data type of each element: float64\n",
      "Total number of bytes consumed by the array: 200\n",
      "Transposed array using reshape():\n",
      " [[ 10.  ]\n",
      " [ 13.75]\n",
      " [ 17.5 ]\n",
      " [ 21.25]\n",
      " [ 25.  ]\n",
      " [ 28.75]\n",
      " [ 32.5 ]\n",
      " [ 36.25]\n",
      " [ 40.  ]\n",
      " [ 43.75]\n",
      " [ 47.5 ]\n",
      " [ 51.25]\n",
      " [ 55.  ]\n",
      " [ 58.75]\n",
      " [ 62.5 ]\n",
      " [ 66.25]\n",
      " [ 70.  ]\n",
      " [ 73.75]\n",
      " [ 77.5 ]\n",
      " [ 81.25]\n",
      " [ 85.  ]\n",
      " [ 88.75]\n",
      " [ 92.5 ]\n",
      " [ 96.25]\n",
      " [100.  ]]\n",
      "Transposed array using T attribute:\n",
      " [ 10.    13.75  17.5   21.25  25.    28.75  32.5   36.25  40.    43.75\n",
      "  47.5   51.25  55.    58.75  62.5   66.25  70.    73.75  77.5   81.25\n",
      "  85.    88.75  92.5   96.25 100.  ]\n"
     ]
    }
   ],
   "source": [
    "import numpy as np\n",
    "\n",
    "work= np.linspace(10, 100, 25)\n",
    "\n",
    "print(\"Dimensions of the array:\", work.ndim)\n",
    "print(\"Shape of the array:\", work.shape)\n",
    "print(\"Total elements in the array:\", work.size)\n",
    "print(\"Data type of each element:\", work.dtype)\n",
    "print(\"Total number of bytes consumed by the array:\", work.nbytes)\n",
    "\n",
    "transposed_array_reshape = work.reshape(25, 1)\n",
    "print(\"Transposed array using reshape():\\n\", transposed_array_reshape)\n",
    "\n",
    "transposed_array_T = work.T\n",
    "print(\"Transposed array using T attribute:\\n\", transposed_array_T)"
   ]
  },
  {
   "cell_type": "markdown",
   "id": "ff387c0d-f0f9-4dad-a3ac-12e62bbec6a7",
   "metadata": {},
   "source": [
    "Q5. Create a 2-D Array of three rows and four columns, named ucs420_<your_name>> \n",
    "with following values – 10, 20, 30, 40, 50, 60, 70, 80, 90, 15, 20, 35. Compute the mean, \n",
    "median, max, min, unique elements. Reshape the array to four rows and three columns and \n",
    "name it as reshaped_ ucs420_<your_name>>. Resize the array to two rows and three \n",
    "columns and name it as resized_ ucs420_<your_name>>."
   ]
  },
  {
   "cell_type": "code",
   "execution_count": 13,
   "id": "7e750d23-d0ef-4e1c-b2e4-ec8371f5c016",
   "metadata": {},
   "outputs": [
    {
     "name": "stdout",
     "output_type": "stream",
     "text": [
      "Mean: 43.333333333333336\n",
      "Median: 37.5\n",
      "Max: 90\n",
      "Min: 10\n",
      "Unique elements: [10 15 20 30 35 40 50 60 70 80 90]\n",
      "Reshaped array (4 rows, 3 columns):\n",
      " [[10 20 30]\n",
      " [40 50 60]\n",
      " [70 80 90]\n",
      " [15 20 35]]\n"
     ]
    }
   ],
   "source": [
    "import numpy as np\n",
    "\n",
    "work = np.array([[10, 20, 30, 40],[50, 60, 70, 80],[90, 15, 20, 35]])\n",
    "\n",
    "mean_value = np.mean(work)\n",
    "median_value = np.median(work)\n",
    "max_value = np.max(work)\n",
    "min_value = np.min(work)\n",
    "unique_elements = np.unique(work)\n",
    "\n",
    "print(\"Mean:\", mean_value)\n",
    "print(\"Median:\", median_value)\n",
    "print(\"Max:\", max_value)\n",
    "print(\"Min:\", min_value)\n",
    "print(\"Unique elements:\", unique_elements)\n",
    "\n",
    "reshaped_work = work.reshape(4, 3)\n",
    "print(\"Reshaped array (4 rows, 3 columns):\\n\", reshaped_work)\n"
   ]
  },
  {
   "cell_type": "code",
   "execution_count": null,
   "id": "8d12949e-24f5-4f19-9d31-d8207cb4d893",
   "metadata": {},
   "outputs": [],
   "source": []
  }
 ],
 "metadata": {
  "kernelspec": {
   "display_name": "Python [conda env:base] *",
   "language": "python",
   "name": "conda-base-py"
  },
  "language_info": {
   "codemirror_mode": {
    "name": "ipython",
    "version": 3
   },
   "file_extension": ".py",
   "mimetype": "text/x-python",
   "name": "python",
   "nbconvert_exporter": "python",
   "pygments_lexer": "ipython3",
   "version": "3.12.7"
  }
 },
 "nbformat": 4,
 "nbformat_minor": 5
}
